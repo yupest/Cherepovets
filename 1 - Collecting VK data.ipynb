{
 "cells": [
  {
   "cell_type": "code",
   "execution_count": 1,
   "metadata": {},
   "outputs": [],
   "source": [
    "import pandas as pd\n",
    "import requests\n",
    "import json\n",
    "import datetime\n",
    "import tqdm\n",
    "import time\n",
    "from multiprocessing.dummy import Pool\n",
    "from multiprocessing import cpu_count, freeze_support"
   ]
  },
  {
   "cell_type": "code",
   "execution_count": 2,
   "metadata": {},
   "outputs": [],
   "source": [
    "token = 'aef4a8fcaef4a8fcaef4a8fc0cae9b7455aaef4aef4a8fcf0a5acac7eb6b17369a4d378'"
   ]
  },
  {
   "cell_type": "code",
   "execution_count": 3,
   "metadata": {},
   "outputs": [],
   "source": [
    "publics = pd.DataFrame({\n",
    "    'owner_id':['-6050194', '-193186817', '-161610747', '-128411654', '569689032', '-179333837', '-200210651', '-171049283', '-83958801'],\n",
    "    'domain':['dtpche', 'derevya_cherepovtsa', 'komandacher', 'tos_cher', 'germanovve', 'public_happy_city', 'shagi_che', 'che_104', 'club83958801'],\n",
    "    'name': ['Деревья череповца', 'Мой Череповец', 'ТОС Череповец', 'публичная страница мэра города', 'Пешеходная зона. Череповец.', 'Пешеходная зона. Череповец.', 'Проектная группа ШАГИ', 'Череповец | Зашекснинский | 104 | Сточик', 'ТОС \"Индустриальный”']\n",
    "})"
   ]
  },
  {
   "cell_type": "code",
   "execution_count": 4,
   "metadata": {},
   "outputs": [],
   "source": [
    "df_pages = []"
   ]
  },
  {
   "cell_type": "code",
   "execution_count": 55,
   "metadata": {},
   "outputs": [],
   "source": [
    "def get_wall(owners_id):\n",
    "    for owner_id in owners_id:\n",
    "\n",
    "        domain = publics.set_index('owner_id').loc[owner_id, 'domain']\n",
    "        df = dict_first_page[owner_id]\n",
    "        df['domain'] = domain\n",
    "        df_pages.append(df)\n",
    "\n",
    "        for offset in tqdm.notebook.tqdm(range(100, dict_counts[owner_id], 100)):\n",
    "            try:\n",
    "                url = 'https://api.vk.com/method/wall.get?owner_id={}&domain={}&count=100&offset={}&extended=1&access_token={}&v=5.131'.format(owner_id, domain, offset, token)\n",
    "                page = requests.get(url).text\n",
    "                response = json.loads(page)['response']\n",
    "                df = pd.json_normalize(response['items'])\n",
    "                df['domain'] = domain\n",
    "                df_pages.append(df)\n",
    "                time.sleep(1)\n",
    "                \n",
    "            except Exception as e:\n",
    "                print(e)\n"
   ]
  },
  {
   "cell_type": "code",
   "execution_count": 6,
   "metadata": {},
   "outputs": [],
   "source": [
    "dict_first_page = {}\n",
    "dict_counts = {}"
   ]
  },
  {
   "cell_type": "code",
   "execution_count": 7,
   "metadata": {},
   "outputs": [],
   "source": [
    "for owner_id, domain in publics[['owner_id', 'domain']].values:\n",
    "\n",
    "    url = 'https://api.vk.com/method/wall.get?owner_id={}&domain={}&count=100&offset={}&extended=1&access_token={}&v=5.131'.format(owner_id, domain, 0, token)\n",
    "    page = requests.get(url).text\n",
    "    response = json.loads(page)['response']\n",
    "    count = int(response['count'])\n",
    "    dict_counts[owner_id] = count\n",
    "    dict_first_page[owner_id] = pd.json_normalize(response['items'])"
   ]
  },
  {
   "cell_type": "code",
   "execution_count": 58,
   "metadata": {
    "scrolled": true
   },
   "outputs": [],
   "source": [
    "publics['count'] = list(dict_counts.values())"
   ]
  },
  {
   "cell_type": "code",
   "execution_count": 60,
   "metadata": {},
   "outputs": [
    {
     "name": "stdout",
     "output_type": "stream",
     "text": [
      "\n"
     ]
    },
    {
     "data": {
      "application/vnd.jupyter.widget-view+json": {
       "model_id": "9606d3158d0649ab88ee8652db3284ba",
       "version_major": 2,
       "version_minor": 0
      },
      "text/plain": [
       "HBox(children=(FloatProgress(value=0.0, max=15.0), HTML(value='')))"
      ]
     },
     "metadata": {},
     "output_type": "display_data"
    },
    {
     "name": "stdout",
     "output_type": "stream",
     "text": [
      "\n"
     ]
    }
   ],
   "source": [
    "publics.to_csv('data/publics.csv', index = False)"
   ]
  },
  {
   "cell_type": "code",
   "execution_count": 56,
   "metadata": {},
   "outputs": [
    {
     "data": {
      "application/vnd.jupyter.widget-view+json": {
       "model_id": "fe773c2b95894781b0755ff9b07bed1f",
       "version_major": 2,
       "version_minor": 0
      },
      "text/plain": [
       "HBox(children=(FloatProgress(value=0.0, max=106.0), HTML(value='')))"
      ]
     },
     "metadata": {},
     "output_type": "display_data"
    },
    {
     "data": {
      "application/vnd.jupyter.widget-view+json": {
       "model_id": "8e7dbf6e61f54ebd9b7560ee8fe48a2e",
       "version_major": 2,
       "version_minor": 0
      },
      "text/plain": [
       "HBox(children=(FloatProgress(value=0.0, max=1.0), HTML(value='')))"
      ]
     },
     "metadata": {},
     "output_type": "display_data"
    },
    {
     "data": {
      "application/vnd.jupyter.widget-view+json": {
       "model_id": "eed2417c398041f88f38e664d7bc4f4c",
       "version_major": 2,
       "version_minor": 0
      },
      "text/plain": [
       "HBox(children=(FloatProgress(value=0.0, max=45.0), HTML(value='')))"
      ]
     },
     "metadata": {},
     "output_type": "display_data"
    },
    {
     "data": {
      "application/vnd.jupyter.widget-view+json": {
       "model_id": "6d8ded48ce5b41fc90a1e442026429b3",
       "version_major": 2,
       "version_minor": 0
      },
      "text/plain": [
       "HBox(children=(FloatProgress(value=0.0, max=24.0), HTML(value='')))"
      ]
     },
     "metadata": {},
     "output_type": "display_data"
    },
    {
     "data": {
      "application/vnd.jupyter.widget-view+json": {
       "model_id": "de585dbca33046089ed82b207c9c2f48",
       "version_major": 2,
       "version_minor": 0
      },
      "text/plain": [
       "HBox(children=(FloatProgress(value=0.0, max=11.0), HTML(value='')))"
      ]
     },
     "metadata": {},
     "output_type": "display_data"
    },
    {
     "data": {
      "application/vnd.jupyter.widget-view+json": {
       "model_id": "cbaae23dbb3a494387f710a3306b5f94",
       "version_major": 2,
       "version_minor": 0
      },
      "text/plain": [
       "HBox(children=(FloatProgress(value=0.0, max=2.0), HTML(value='')))"
      ]
     },
     "metadata": {},
     "output_type": "display_data"
    },
    {
     "data": {
      "application/vnd.jupyter.widget-view+json": {
       "model_id": "864b8dd498de41e5869a8afdf48632f9",
       "version_major": 2,
       "version_minor": 0
      },
      "text/plain": [
       "HBox(children=(FloatProgress(value=0.0, max=5.0), HTML(value='')))"
      ]
     },
     "metadata": {},
     "output_type": "display_data"
    },
    {
     "name": "stdout",
     "output_type": "stream",
     "text": [
      "\n",
      "\n",
      "\n"
     ]
    },
    {
     "data": {
      "application/vnd.jupyter.widget-view+json": {
       "model_id": "d1fe07dfac77425ea21401e97aa87cfd",
       "version_major": 2,
       "version_minor": 0
      },
      "text/plain": [
       "HBox(children=(FloatProgress(value=0.0, max=16.0), HTML(value='')))"
      ]
     },
     "metadata": {},
     "output_type": "display_data"
    }
   ],
   "source": [
    "datalist = list(dict_counts.keys())\n",
    "\n",
    "if __name__== \"__main__\":\n",
    "    freeze_support()\n",
    "    pool = Pool()\n",
    "    ITERATION_COUNT = cpu_count()-1 if len(datalist) >= cpu_count()-1 else len(datalist)\n",
    "\n",
    "    count_per_iteration = len(datalist) / float(ITERATION_COUNT)\n",
    "\n",
    "    for i in range(0, ITERATION_COUNT):\n",
    "        list_start = int(count_per_iteration * i)\n",
    "        list_end = int(count_per_iteration * (i+1))\n",
    "        pool.apply_async(get_wall, [datalist[list_start:list_end]])"
   ]
  },
  {
   "cell_type": "code",
   "execution_count": 63,
   "metadata": {},
   "outputs": [],
   "source": [
    "df_posts = pd.concat(df_pages, ignore_index = True).drop_duplicates(['date', 'id', 'domain'])"
   ]
  },
  {
   "cell_type": "code",
   "execution_count": 64,
   "metadata": {},
   "outputs": [
    {
     "data": {
      "text/plain": [
       "(23083, 53)"
      ]
     },
     "execution_count": 64,
     "metadata": {},
     "output_type": "execute_result"
    }
   ],
   "source": [
    "df_posts.shape"
   ]
  },
  {
   "cell_type": "code",
   "execution_count": 65,
   "metadata": {},
   "outputs": [],
   "source": [
    "df_posts['date'] = pd.to_datetime(df_posts.date, unit='s')+datetime.timedelta(hours = 3)"
   ]
  },
  {
   "cell_type": "code",
   "execution_count": 66,
   "metadata": {},
   "outputs": [
    {
     "data": {
      "text/html": [
       "<div>\n",
       "<style scoped>\n",
       "    .dataframe tbody tr th:only-of-type {\n",
       "        vertical-align: middle;\n",
       "    }\n",
       "\n",
       "    .dataframe tbody tr th {\n",
       "        vertical-align: top;\n",
       "    }\n",
       "\n",
       "    .dataframe thead th {\n",
       "        text-align: right;\n",
       "    }\n",
       "</style>\n",
       "<table border=\"1\" class=\"dataframe\">\n",
       "  <thead>\n",
       "    <tr style=\"text-align: right;\">\n",
       "      <th></th>\n",
       "      <th>id</th>\n",
       "      <th>from_id</th>\n",
       "      <th>owner_id</th>\n",
       "      <th>date</th>\n",
       "      <th>marked_as_ads</th>\n",
       "      <th>post_type</th>\n",
       "      <th>text</th>\n",
       "      <th>is_pinned</th>\n",
       "      <th>attachments</th>\n",
       "      <th>short_text_rate</th>\n",
       "      <th>...</th>\n",
       "      <th>geo.place.address</th>\n",
       "      <th>geo.place.category</th>\n",
       "      <th>geo.place.city</th>\n",
       "      <th>geo.place.country</th>\n",
       "      <th>geo.place.category_object.id</th>\n",
       "      <th>geo.place.category_object.title</th>\n",
       "      <th>geo.place.category_object.icons</th>\n",
       "      <th>post_source.data</th>\n",
       "      <th>geo.showmap</th>\n",
       "      <th>post_source.url</th>\n",
       "    </tr>\n",
       "  </thead>\n",
       "  <tbody>\n",
       "    <tr>\n",
       "      <th>0</th>\n",
       "      <td>5449</td>\n",
       "      <td>-83958801</td>\n",
       "      <td>-83958801</td>\n",
       "      <td>2022-03-04 11:15:38</td>\n",
       "      <td>0.0</td>\n",
       "      <td>post</td>\n",
       "      <td>Больше о работе Городской Управы #7, а также о...</td>\n",
       "      <td>1.0</td>\n",
       "      <td>[{'type': 'photo', 'photo': {'album_id': -7, '...</td>\n",
       "      <td>0.8</td>\n",
       "      <td>...</td>\n",
       "      <td>NaN</td>\n",
       "      <td>NaN</td>\n",
       "      <td>NaN</td>\n",
       "      <td>NaN</td>\n",
       "      <td>NaN</td>\n",
       "      <td>NaN</td>\n",
       "      <td>NaN</td>\n",
       "      <td>NaN</td>\n",
       "      <td>NaN</td>\n",
       "      <td>NaN</td>\n",
       "    </tr>\n",
       "    <tr>\n",
       "      <th>1</th>\n",
       "      <td>5469</td>\n",
       "      <td>-83958801</td>\n",
       "      <td>-83958801</td>\n",
       "      <td>2022-03-20 13:03:33</td>\n",
       "      <td>0.0</td>\n",
       "      <td>post</td>\n",
       "      <td>Всех причастных с праздником!</td>\n",
       "      <td>NaN</td>\n",
       "      <td>NaN</td>\n",
       "      <td>0.8</td>\n",
       "      <td>...</td>\n",
       "      <td>NaN</td>\n",
       "      <td>NaN</td>\n",
       "      <td>NaN</td>\n",
       "      <td>NaN</td>\n",
       "      <td>NaN</td>\n",
       "      <td>NaN</td>\n",
       "      <td>NaN</td>\n",
       "      <td>NaN</td>\n",
       "      <td>NaN</td>\n",
       "      <td>NaN</td>\n",
       "    </tr>\n",
       "    <tr>\n",
       "      <th>2</th>\n",
       "      <td>5468</td>\n",
       "      <td>-83958801</td>\n",
       "      <td>-83958801</td>\n",
       "      <td>2022-03-19 22:26:38</td>\n",
       "      <td>0.0</td>\n",
       "      <td>post</td>\n",
       "      <td></td>\n",
       "      <td>NaN</td>\n",
       "      <td>NaN</td>\n",
       "      <td>0.8</td>\n",
       "      <td>...</td>\n",
       "      <td>NaN</td>\n",
       "      <td>NaN</td>\n",
       "      <td>NaN</td>\n",
       "      <td>NaN</td>\n",
       "      <td>NaN</td>\n",
       "      <td>NaN</td>\n",
       "      <td>NaN</td>\n",
       "      <td>NaN</td>\n",
       "      <td>NaN</td>\n",
       "      <td>NaN</td>\n",
       "    </tr>\n",
       "    <tr>\n",
       "      <th>3</th>\n",
       "      <td>5467</td>\n",
       "      <td>-83958801</td>\n",
       "      <td>-83958801</td>\n",
       "      <td>2022-03-18 21:27:34</td>\n",
       "      <td>0.0</td>\n",
       "      <td>post</td>\n",
       "      <td>Работа УК</td>\n",
       "      <td>NaN</td>\n",
       "      <td>NaN</td>\n",
       "      <td>0.8</td>\n",
       "      <td>...</td>\n",
       "      <td>NaN</td>\n",
       "      <td>NaN</td>\n",
       "      <td>NaN</td>\n",
       "      <td>NaN</td>\n",
       "      <td>NaN</td>\n",
       "      <td>NaN</td>\n",
       "      <td>NaN</td>\n",
       "      <td>NaN</td>\n",
       "      <td>NaN</td>\n",
       "      <td>NaN</td>\n",
       "    </tr>\n",
       "    <tr>\n",
       "      <th>4</th>\n",
       "      <td>5465</td>\n",
       "      <td>-83958801</td>\n",
       "      <td>-83958801</td>\n",
       "      <td>2022-03-18 07:37:38</td>\n",
       "      <td>0.0</td>\n",
       "      <td>post</td>\n",
       "      <td></td>\n",
       "      <td>NaN</td>\n",
       "      <td>NaN</td>\n",
       "      <td>0.8</td>\n",
       "      <td>...</td>\n",
       "      <td>NaN</td>\n",
       "      <td>NaN</td>\n",
       "      <td>NaN</td>\n",
       "      <td>NaN</td>\n",
       "      <td>NaN</td>\n",
       "      <td>NaN</td>\n",
       "      <td>NaN</td>\n",
       "      <td>NaN</td>\n",
       "      <td>NaN</td>\n",
       "      <td>NaN</td>\n",
       "    </tr>\n",
       "    <tr>\n",
       "      <th>...</th>\n",
       "      <td>...</td>\n",
       "      <td>...</td>\n",
       "      <td>...</td>\n",
       "      <td>...</td>\n",
       "      <td>...</td>\n",
       "      <td>...</td>\n",
       "      <td>...</td>\n",
       "      <td>...</td>\n",
       "      <td>...</td>\n",
       "      <td>...</td>\n",
       "      <td>...</td>\n",
       "      <td>...</td>\n",
       "      <td>...</td>\n",
       "      <td>...</td>\n",
       "      <td>...</td>\n",
       "      <td>...</td>\n",
       "      <td>...</td>\n",
       "      <td>...</td>\n",
       "      <td>...</td>\n",
       "      <td>...</td>\n",
       "      <td>...</td>\n",
       "    </tr>\n",
       "    <tr>\n",
       "      <th>23978</th>\n",
       "      <td>39700</td>\n",
       "      <td>-6050194</td>\n",
       "      <td>-6050194</td>\n",
       "      <td>2018-05-01 11:22:08</td>\n",
       "      <td>0.0</td>\n",
       "      <td>post</td>\n",
       "      <td></td>\n",
       "      <td>NaN</td>\n",
       "      <td>NaN</td>\n",
       "      <td>0.8</td>\n",
       "      <td>...</td>\n",
       "      <td>NaN</td>\n",
       "      <td>NaN</td>\n",
       "      <td>NaN</td>\n",
       "      <td>NaN</td>\n",
       "      <td>NaN</td>\n",
       "      <td>NaN</td>\n",
       "      <td>NaN</td>\n",
       "      <td>NaN</td>\n",
       "      <td>NaN</td>\n",
       "      <td>NaN</td>\n",
       "    </tr>\n",
       "    <tr>\n",
       "      <th>23979</th>\n",
       "      <td>39691</td>\n",
       "      <td>-6050194</td>\n",
       "      <td>-6050194</td>\n",
       "      <td>2018-05-01 10:20:00</td>\n",
       "      <td>0.0</td>\n",
       "      <td>post</td>\n",
       "      <td>По пути на Романду упали столбы\\n\\n📋[id2170823...</td>\n",
       "      <td>NaN</td>\n",
       "      <td>[{'type': 'photo', 'photo': {'album_id': -7, '...</td>\n",
       "      <td>0.8</td>\n",
       "      <td>...</td>\n",
       "      <td>NaN</td>\n",
       "      <td>NaN</td>\n",
       "      <td>NaN</td>\n",
       "      <td>NaN</td>\n",
       "      <td>NaN</td>\n",
       "      <td>NaN</td>\n",
       "      <td>NaN</td>\n",
       "      <td>NaN</td>\n",
       "      <td>NaN</td>\n",
       "      <td>NaN</td>\n",
       "    </tr>\n",
       "    <tr>\n",
       "      <th>23980</th>\n",
       "      <td>39689</td>\n",
       "      <td>-6050194</td>\n",
       "      <td>-6050194</td>\n",
       "      <td>2018-05-01 10:10:00</td>\n",
       "      <td>0.0</td>\n",
       "      <td>post</td>\n",
       "      <td>Пoд Чеpепoвцoм из-зa пoзднегo сигнaлa o пoжapе...</td>\n",
       "      <td>NaN</td>\n",
       "      <td>[{'type': 'photo', 'photo': {'album_id': -7, '...</td>\n",
       "      <td>0.8</td>\n",
       "      <td>...</td>\n",
       "      <td>NaN</td>\n",
       "      <td>NaN</td>\n",
       "      <td>NaN</td>\n",
       "      <td>NaN</td>\n",
       "      <td>NaN</td>\n",
       "      <td>NaN</td>\n",
       "      <td>NaN</td>\n",
       "      <td>NaN</td>\n",
       "      <td>NaN</td>\n",
       "      <td>NaN</td>\n",
       "    </tr>\n",
       "    <tr>\n",
       "      <th>23981</th>\n",
       "      <td>39682</td>\n",
       "      <td>-6050194</td>\n",
       "      <td>-6050194</td>\n",
       "      <td>2018-05-01 09:41:51</td>\n",
       "      <td>0.0</td>\n",
       "      <td>post</td>\n",
       "      <td>📋[id82798941|Галина Сидорова]</td>\n",
       "      <td>NaN</td>\n",
       "      <td>[{'type': 'photo', 'photo': {'album_id': -7, '...</td>\n",
       "      <td>0.8</td>\n",
       "      <td>...</td>\n",
       "      <td>NaN</td>\n",
       "      <td>NaN</td>\n",
       "      <td>NaN</td>\n",
       "      <td>NaN</td>\n",
       "      <td>NaN</td>\n",
       "      <td>NaN</td>\n",
       "      <td>NaN</td>\n",
       "      <td>NaN</td>\n",
       "      <td>NaN</td>\n",
       "      <td>NaN</td>\n",
       "    </tr>\n",
       "    <tr>\n",
       "      <th>23982</th>\n",
       "      <td>39678</td>\n",
       "      <td>-6050194</td>\n",
       "      <td>-6050194</td>\n",
       "      <td>2018-05-01 09:15:21</td>\n",
       "      <td>0.0</td>\n",
       "      <td>post</td>\n",
       "      <td>Миp, тpуд, мaй😉</td>\n",
       "      <td>NaN</td>\n",
       "      <td>[{'type': 'photo', 'photo': {'album_id': -7, '...</td>\n",
       "      <td>0.8</td>\n",
       "      <td>...</td>\n",
       "      <td>NaN</td>\n",
       "      <td>NaN</td>\n",
       "      <td>NaN</td>\n",
       "      <td>NaN</td>\n",
       "      <td>NaN</td>\n",
       "      <td>NaN</td>\n",
       "      <td>NaN</td>\n",
       "      <td>NaN</td>\n",
       "      <td>NaN</td>\n",
       "      <td>NaN</td>\n",
       "    </tr>\n",
       "  </tbody>\n",
       "</table>\n",
       "<p>23083 rows × 53 columns</p>\n",
       "</div>"
      ],
      "text/plain": [
       "          id   from_id  owner_id                date  marked_as_ads post_type  \\\n",
       "0       5449 -83958801 -83958801 2022-03-04 11:15:38            0.0      post   \n",
       "1       5469 -83958801 -83958801 2022-03-20 13:03:33            0.0      post   \n",
       "2       5468 -83958801 -83958801 2022-03-19 22:26:38            0.0      post   \n",
       "3       5467 -83958801 -83958801 2022-03-18 21:27:34            0.0      post   \n",
       "4       5465 -83958801 -83958801 2022-03-18 07:37:38            0.0      post   \n",
       "...      ...       ...       ...                 ...            ...       ...   \n",
       "23978  39700  -6050194  -6050194 2018-05-01 11:22:08            0.0      post   \n",
       "23979  39691  -6050194  -6050194 2018-05-01 10:20:00            0.0      post   \n",
       "23980  39689  -6050194  -6050194 2018-05-01 10:10:00            0.0      post   \n",
       "23981  39682  -6050194  -6050194 2018-05-01 09:41:51            0.0      post   \n",
       "23982  39678  -6050194  -6050194 2018-05-01 09:15:21            0.0      post   \n",
       "\n",
       "                                                    text  is_pinned  \\\n",
       "0      Больше о работе Городской Управы #7, а также о...        1.0   \n",
       "1                          Всех причастных с праздником!        NaN   \n",
       "2                                                               NaN   \n",
       "3                                              Работа УК        NaN   \n",
       "4                                                               NaN   \n",
       "...                                                  ...        ...   \n",
       "23978                                                           NaN   \n",
       "23979  По пути на Романду упали столбы\\n\\n📋[id2170823...        NaN   \n",
       "23980  Пoд Чеpепoвцoм из-зa пoзднегo сигнaлa o пoжapе...        NaN   \n",
       "23981                      📋[id82798941|Галина Сидорова]        NaN   \n",
       "23982                                    Миp, тpуд, мaй😉        NaN   \n",
       "\n",
       "                                             attachments  short_text_rate  \\\n",
       "0      [{'type': 'photo', 'photo': {'album_id': -7, '...              0.8   \n",
       "1                                                    NaN              0.8   \n",
       "2                                                    NaN              0.8   \n",
       "3                                                    NaN              0.8   \n",
       "4                                                    NaN              0.8   \n",
       "...                                                  ...              ...   \n",
       "23978                                                NaN              0.8   \n",
       "23979  [{'type': 'photo', 'photo': {'album_id': -7, '...              0.8   \n",
       "23980  [{'type': 'photo', 'photo': {'album_id': -7, '...              0.8   \n",
       "23981  [{'type': 'photo', 'photo': {'album_id': -7, '...              0.8   \n",
       "23982  [{'type': 'photo', 'photo': {'album_id': -7, '...              0.8   \n",
       "\n",
       "       ...  geo.place.address geo.place.category geo.place.city  \\\n",
       "0      ...                NaN                NaN            NaN   \n",
       "1      ...                NaN                NaN            NaN   \n",
       "2      ...                NaN                NaN            NaN   \n",
       "3      ...                NaN                NaN            NaN   \n",
       "4      ...                NaN                NaN            NaN   \n",
       "...    ...                ...                ...            ...   \n",
       "23978  ...                NaN                NaN            NaN   \n",
       "23979  ...                NaN                NaN            NaN   \n",
       "23980  ...                NaN                NaN            NaN   \n",
       "23981  ...                NaN                NaN            NaN   \n",
       "23982  ...                NaN                NaN            NaN   \n",
       "\n",
       "      geo.place.country  geo.place.category_object.id  \\\n",
       "0                   NaN                           NaN   \n",
       "1                   NaN                           NaN   \n",
       "2                   NaN                           NaN   \n",
       "3                   NaN                           NaN   \n",
       "4                   NaN                           NaN   \n",
       "...                 ...                           ...   \n",
       "23978               NaN                           NaN   \n",
       "23979               NaN                           NaN   \n",
       "23980               NaN                           NaN   \n",
       "23981               NaN                           NaN   \n",
       "23982               NaN                           NaN   \n",
       "\n",
       "       geo.place.category_object.title geo.place.category_object.icons  \\\n",
       "0                                  NaN                             NaN   \n",
       "1                                  NaN                             NaN   \n",
       "2                                  NaN                             NaN   \n",
       "3                                  NaN                             NaN   \n",
       "4                                  NaN                             NaN   \n",
       "...                                ...                             ...   \n",
       "23978                              NaN                             NaN   \n",
       "23979                              NaN                             NaN   \n",
       "23980                              NaN                             NaN   \n",
       "23981                              NaN                             NaN   \n",
       "23982                              NaN                             NaN   \n",
       "\n",
       "       post_source.data  geo.showmap  post_source.url  \n",
       "0                   NaN          NaN              NaN  \n",
       "1                   NaN          NaN              NaN  \n",
       "2                   NaN          NaN              NaN  \n",
       "3                   NaN          NaN              NaN  \n",
       "4                   NaN          NaN              NaN  \n",
       "...                 ...          ...              ...  \n",
       "23978               NaN          NaN              NaN  \n",
       "23979               NaN          NaN              NaN  \n",
       "23980               NaN          NaN              NaN  \n",
       "23981               NaN          NaN              NaN  \n",
       "23982               NaN          NaN              NaN  \n",
       "\n",
       "[23083 rows x 53 columns]"
      ]
     },
     "execution_count": 66,
     "metadata": {},
     "output_type": "execute_result"
    }
   ],
   "source": [
    "df_posts"
   ]
  },
  {
   "cell_type": "code",
   "execution_count": 67,
   "metadata": {},
   "outputs": [],
   "source": [
    "df_posts.to_csv('data/vk_posts.csv', index = False)"
   ]
  },
  {
   "cell_type": "markdown",
   "metadata": {},
   "source": [
    "# Проверка"
   ]
  },
  {
   "cell_type": "code",
   "execution_count": 70,
   "metadata": {},
   "outputs": [
    {
     "data": {
      "text/html": [
       "<div>\n",
       "<style scoped>\n",
       "    .dataframe tbody tr th:only-of-type {\n",
       "        vertical-align: middle;\n",
       "    }\n",
       "\n",
       "    .dataframe tbody tr th {\n",
       "        vertical-align: top;\n",
       "    }\n",
       "\n",
       "    .dataframe thead th {\n",
       "        text-align: right;\n",
       "    }\n",
       "</style>\n",
       "<table border=\"1\" class=\"dataframe\">\n",
       "  <thead>\n",
       "    <tr style=\"text-align: right;\">\n",
       "      <th></th>\n",
       "      <th>domain</th>\n",
       "      <th>id</th>\n",
       "      <th>count</th>\n",
       "    </tr>\n",
       "  </thead>\n",
       "  <tbody>\n",
       "    <tr>\n",
       "      <th>0</th>\n",
       "      <td>che_104</td>\n",
       "      <td>593</td>\n",
       "      <td>593</td>\n",
       "    </tr>\n",
       "    <tr>\n",
       "      <th>1</th>\n",
       "      <td>club83958801</td>\n",
       "      <td>1693</td>\n",
       "      <td>1693</td>\n",
       "    </tr>\n",
       "    <tr>\n",
       "      <th>2</th>\n",
       "      <td>derevya_cherepovtsa</td>\n",
       "      <td>1168</td>\n",
       "      <td>1168</td>\n",
       "    </tr>\n",
       "    <tr>\n",
       "      <th>3</th>\n",
       "      <td>dtpche</td>\n",
       "      <td>10667</td>\n",
       "      <td>10667</td>\n",
       "    </tr>\n",
       "    <tr>\n",
       "      <th>4</th>\n",
       "      <td>germanovve</td>\n",
       "      <td>1581</td>\n",
       "      <td>1581</td>\n",
       "    </tr>\n",
       "    <tr>\n",
       "      <th>5</th>\n",
       "      <td>komandacher</td>\n",
       "      <td>2404</td>\n",
       "      <td>2404</td>\n",
       "    </tr>\n",
       "    <tr>\n",
       "      <th>6</th>\n",
       "      <td>public_happy_city</td>\n",
       "      <td>298</td>\n",
       "      <td>298</td>\n",
       "    </tr>\n",
       "    <tr>\n",
       "      <th>7</th>\n",
       "      <td>shagi_che</td>\n",
       "      <td>130</td>\n",
       "      <td>130</td>\n",
       "    </tr>\n",
       "    <tr>\n",
       "      <th>8</th>\n",
       "      <td>tos_cher</td>\n",
       "      <td>4549</td>\n",
       "      <td>4549</td>\n",
       "    </tr>\n",
       "  </tbody>\n",
       "</table>\n",
       "</div>"
      ],
      "text/plain": [
       "                domain     id  count\n",
       "0              che_104    593    593\n",
       "1         club83958801   1693   1693\n",
       "2  derevya_cherepovtsa   1168   1168\n",
       "3               dtpche  10667  10667\n",
       "4           germanovve   1581   1581\n",
       "5          komandacher   2404   2404\n",
       "6    public_happy_city    298    298\n",
       "7            shagi_che    130    130\n",
       "8             tos_cher   4549   4549"
      ]
     },
     "execution_count": 70,
     "metadata": {},
     "output_type": "execute_result"
    }
   ],
   "source": [
    "df_posts.groupby('domain').count()[['id']].reset_index().merge(publics[['domain', 'count']], how = 'left', on = 'domain')"
   ]
  },
  {
   "cell_type": "markdown",
   "metadata": {},
   "source": [
    "# Преобразование данных"
   ]
  },
  {
   "cell_type": "code",
   "execution_count": 4,
   "metadata": {},
   "outputs": [
    {
     "name": "stderr",
     "output_type": "stream",
     "text": [
      "C:\\Users\\yupes\\anaconda3\\lib\\site-packages\\IPython\\core\\interactiveshell.py:3343: DtypeWarning: Columns (43,48,49,52) have mixed types.Specify dtype option on import or set low_memory=False.\n",
      "  exec(code_obj, self.user_global_ns, self.user_ns)\n"
     ]
    }
   ],
   "source": [
    "df_posts = pd.read_csv('data/vk_posts.csv')"
   ]
  },
  {
   "cell_type": "code",
   "execution_count": 7,
   "metadata": {},
   "outputs": [
    {
     "name": "stdout",
     "output_type": "stream",
     "text": [
      "<class 'pandas.core.frame.DataFrame'>\n",
      "RangeIndex: 23083 entries, 0 to 23082\n",
      "Data columns (total 53 columns):\n",
      " #   Column                           Non-Null Count  Dtype  \n",
      "---  ------                           --------------  -----  \n",
      " 0   id                               23083 non-null  int64  \n",
      " 1   from_id                          23083 non-null  int64  \n",
      " 2   owner_id                         23083 non-null  int64  \n",
      " 3   date                             23083 non-null  object \n",
      " 4   marked_as_ads                    21502 non-null  float64\n",
      " 5   post_type                        23083 non-null  object \n",
      " 6   text                             17891 non-null  object \n",
      " 7   is_pinned                        4 non-null      float64\n",
      " 8   attachments                      16804 non-null  object \n",
      " 9   short_text_rate                  23083 non-null  float64\n",
      " 10  carousel_offset                  5585 non-null   float64\n",
      " 11  hash                             23083 non-null  object \n",
      " 12  post_source.platform             4194 non-null   object \n",
      " 13  post_source.type                 23083 non-null  object \n",
      " 14  comments.can_post                23083 non-null  int64  \n",
      " 15  comments.count                   23083 non-null  int64  \n",
      " 16  comments.groups_can_post         12416 non-null  object \n",
      " 17  likes.can_like                   23083 non-null  int64  \n",
      " 18  likes.count                      23083 non-null  int64  \n",
      " 19  likes.user_likes                 23083 non-null  int64  \n",
      " 20  likes.can_publish                23083 non-null  int64  \n",
      " 21  reposts.count                    23083 non-null  int64  \n",
      " 22  reposts.user_reposted            23083 non-null  int64  \n",
      " 23  views.count                      22017 non-null  float64\n",
      " 24  donut.is_donut                   23083 non-null  bool   \n",
      " 25  copy_history                     5299 non-null   object \n",
      " 26  edited                           2636 non-null   float64\n",
      " 27  signer_id                        1466 non-null   float64\n",
      " 28  domain                           23083 non-null  object \n",
      " 29  copyright.id                     1236 non-null   float64\n",
      " 30  copyright.link                   1407 non-null   object \n",
      " 31  copyright.type                   1407 non-null   object \n",
      " 32  copyright.name                   1407 non-null   object \n",
      " 33  geo.type                         6 non-null      object \n",
      " 34  geo.coordinates                  6 non-null      object \n",
      " 35  geo.place.created                6 non-null      float64\n",
      " 36  geo.place.id                     6 non-null      float64\n",
      " 37  geo.place.is_deleted             6 non-null      object \n",
      " 38  geo.place.latitude               6 non-null      float64\n",
      " 39  geo.place.longitude              6 non-null      float64\n",
      " 40  geo.place.title                  6 non-null      object \n",
      " 41  geo.place.total_checkins         6 non-null      float64\n",
      " 42  geo.place.updated                6 non-null      float64\n",
      " 43  geo.place.address                1 non-null      object \n",
      " 44  geo.place.category               3 non-null      float64\n",
      " 45  geo.place.city                   6 non-null      object \n",
      " 46  geo.place.country                6 non-null      object \n",
      " 47  geo.place.category_object.id     3 non-null      float64\n",
      " 48  geo.place.category_object.title  3 non-null      object \n",
      " 49  geo.place.category_object.icons  3 non-null      object \n",
      " 50  post_source.data                 11 non-null     object \n",
      " 51  geo.showmap                      2 non-null      float64\n",
      " 52  post_source.url                  1 non-null      object \n",
      "dtypes: bool(1), float64(17), int64(11), object(24)\n",
      "memory usage: 9.2+ MB\n"
     ]
    }
   ],
   "source": [
    "df_posts.info()"
   ]
  },
  {
   "cell_type": "code",
   "execution_count": 9,
   "metadata": {},
   "outputs": [
    {
     "data": {
      "text/plain": [
       "(23083,)"
      ]
     },
     "execution_count": 9,
     "metadata": {},
     "output_type": "execute_result"
    }
   ],
   "source": [
    "df_posts['hash'].drop_duplicates().shape"
   ]
  }
 ],
 "metadata": {
  "kernelspec": {
   "display_name": "Python 3",
   "language": "python",
   "name": "python3"
  },
  "language_info": {
   "codemirror_mode": {
    "name": "ipython",
    "version": 3
   },
   "file_extension": ".py",
   "mimetype": "text/x-python",
   "name": "python",
   "nbconvert_exporter": "python",
   "pygments_lexer": "ipython3",
   "version": "3.8.3"
  }
 },
 "nbformat": 4,
 "nbformat_minor": 4
}
